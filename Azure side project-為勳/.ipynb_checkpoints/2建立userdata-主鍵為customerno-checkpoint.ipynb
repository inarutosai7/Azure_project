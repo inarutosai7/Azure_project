{
 "cells": [
  {
   "cell_type": "code",
   "execution_count": null,
   "id": "fde6ee4c",
   "metadata": {},
   "outputs": [],
   "source": [
    "CREATE SCHEMA IF NOT EXISTS azuredata DEFAULT CHARACTER SET utf8mb4 ;"
   ]
  },
  {
   "cell_type": "code",
   "execution_count": null,
   "id": "00aa3e3d",
   "metadata": {},
   "outputs": [],
   "source": [
    "CREATE TABLE  USERDATA"
   ]
  },
  {
   "cell_type": "code",
   "execution_count": null,
   "id": "f2c73b70",
   "metadata": {},
   "outputs": [],
   "source": [
    "(\n",
    "  INDEXNO                INT NOT NULL,\n",
    "  CUSTOMERNO             INT NOT NULL,\n",
    "  CNAME                  VARCHAR(14),\n",
    "  MAXLIMIT               DECIMAL(7,2),\n",
    "  COST                   DECIMAL(7,2),\n",
    "  DATATIME               DATETIME,\n",
    "  CATEGORY               VARCHAR(14),\n",
    "  CONSTRAINT AzureData_PRIMARY_KEY PRIMARY KEY (CUSTOMERNO)\n",
    ") ENGINE = INNODB;"
   ]
  }
 ],
 "metadata": {
  "kernelspec": {
   "display_name": "Python 3",
   "language": "python",
   "name": "python3"
  },
  "language_info": {
   "codemirror_mode": {
    "name": "ipython",
    "version": 3
   },
   "file_extension": ".py",
   "mimetype": "text/x-python",
   "name": "python",
   "nbconvert_exporter": "python",
   "pygments_lexer": "ipython3",
   "version": "3.8.8"
  }
 },
 "nbformat": 4,
 "nbformat_minor": 5
}
