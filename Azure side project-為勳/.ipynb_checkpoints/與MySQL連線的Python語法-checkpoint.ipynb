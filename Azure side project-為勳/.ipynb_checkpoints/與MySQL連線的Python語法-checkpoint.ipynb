{
 "cells": [
  {
   "cell_type": "code",
   "execution_count": 2,
   "id": "7047c300",
   "metadata": {},
   "outputs": [],
   "source": [
    "import pymysql"
   ]
  },
  {
   "cell_type": "code",
   "execution_count": 5,
   "id": "3ba29eae",
   "metadata": {},
   "outputs": [],
   "source": [
    "loginInfo = {\n",
    "    'host':'localhost',\n",
    "    'port':3306,\n",
    "    'user':'root',\n",
    "    'passwd':'',\n",
    "    'db':'Azuredata',\n",
    "    'charset':'utf8mb4'\n",
    "}                                 #passwd 要再填入"
   ]
  },
  {
   "cell_type": "code",
   "execution_count": 6,
   "id": "ee17a2fd",
   "metadata": {},
   "outputs": [],
   "source": [
    "conn= pymysql.connect(**loginInfo)"
   ]
  },
  {
   "cell_type": "code",
   "execution_count": 7,
   "id": "664b5670",
   "metadata": {},
   "outputs": [],
   "source": [
    "cursor = conn.cursor()"
   ]
  },
  {
   "cell_type": "code",
   "execution_count": 8,
   "id": "fc4ec721",
   "metadata": {},
   "outputs": [],
   "source": [
    "import time\n",
    "t = time.localtime()\n",
    "dt = time.strftime('%Y-%m-%d %H:%M:%S', t)"
   ]
  },
  {
   "cell_type": "code",
   "execution_count": null,
   "id": "642d428d",
   "metadata": {},
   "outputs": [],
   "source": [
    "        #  INSERT 一筆資料\n",
    "sql = \"\"\"\n",
    "INSERT INTO userdata (INDEXNO, CUSTOMERNO, CNAME, MAXLIMIT, COST, DATATIME, CATEGORY)\n",
    "VALUES (002, 01, 'JOHN', 3000, 85, '{}','爬山');\n",
    "\"\"\".format(dt)\n",
    "\n",
    "\n",
    "cursor.execute(sql)          #主鍵的值不能重覆 目前還沒決定主鍵要是indexno還是customerno 有表1及表2供選擇"
   ]
  },
  {
   "cell_type": "code",
   "execution_count": null,
   "id": "79951a57",
   "metadata": {},
   "outputs": [],
   "source": [
    "conn.commit()"
   ]
  },
  {
   "cell_type": "code",
   "execution_count": 10,
   "id": "7f3d1c39",
   "metadata": {},
   "outputs": [],
   "source": [
    "cursor.close()\n",
    "conn.close()"
   ]
  },
  {
   "cell_type": "code",
   "execution_count": null,
   "id": "9b6e91ad",
   "metadata": {},
   "outputs": [],
   "source": []
  }
 ],
 "metadata": {
  "kernelspec": {
   "display_name": "Python 3",
   "language": "python",
   "name": "python3"
  },
  "language_info": {
   "codemirror_mode": {
    "name": "ipython",
    "version": 3
   },
   "file_extension": ".py",
   "mimetype": "text/x-python",
   "name": "python",
   "nbconvert_exporter": "python",
   "pygments_lexer": "ipython3",
   "version": "3.8.8"
  }
 },
 "nbformat": 4,
 "nbformat_minor": 5
}
