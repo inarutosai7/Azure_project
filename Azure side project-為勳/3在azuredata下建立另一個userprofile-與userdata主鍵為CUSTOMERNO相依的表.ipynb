{
 "cells": [
  {
   "cell_type": "code",
   "execution_count": null,
   "id": "db13078f",
   "metadata": {},
   "outputs": [],
   "source": [
    "CREATE TABLE USERPROFILE\n",
    "(\n",
    "  CUSTOMERNO          INT NOT NULL,\n",
    "  FULLNAME            VARCHAR(20),\n",
    "  SEX                 VARCHAR(5),\n",
    "  AGE                 INT,\n",
    "  ADDRESS             VARCHAR(50),\n",
    "  TEL                 INT,\n",
    "  INTEREST            VARCHAR(50),\n",
    "  \n",
    "  CONSTRAINT USERPROFILE_CUSTOMERNO_FK FOREIGN KEY (CUSTOMERNO) REFERENCES userdata (CUSTOMERNO),\n",
    "  CONSTRAINT USERPROFILE_CUSTOMERNO_PK PRIMARY KEY (CUSTOMERNO)\n",
    ")ENGINE = INNODB;"
   ]
  }
 ],
 "metadata": {
  "kernelspec": {
   "display_name": "Python 3",
   "language": "python",
   "name": "python3"
  },
  "language_info": {
   "codemirror_mode": {
    "name": "ipython",
    "version": 3
   },
   "file_extension": ".py",
   "mimetype": "text/x-python",
   "name": "python",
   "nbconvert_exporter": "python",
   "pygments_lexer": "ipython3",
   "version": "3.8.8"
  }
 },
 "nbformat": 4,
 "nbformat_minor": 5
}
